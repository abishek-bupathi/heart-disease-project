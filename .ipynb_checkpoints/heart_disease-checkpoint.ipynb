{
 "cells": [
  {
   "cell_type": "markdown",
   "metadata": {},
   "source": [
    "# Predict Heart Disease using Machine Learning\n",
    "\n",
    "This notebook uses various python-based machine learning and data science libraries to build a model capable of predicting whether someone had heart disease or not based on their medical conditions.\n",
    "\n",
    "Strategy:\n",
    "  \n",
    "  1. Problem Definition\n",
    "  2. Data \n",
    "  3. Evaluation\n",
    "  4. Features\n",
    "  5. Modelling\n",
    "  6. Experimentation\n",
    "\n",
    "\n",
    "## Problem Definition\n",
    "\n",
    "> Given clinical paramters about a patient, can we predict whether or not they have heart disease? \n",
    "\n",
    "    \n",
    "  "
   ]
  },
  {
   "cell_type": "code",
   "execution_count": null,
   "metadata": {},
   "outputs": [],
   "source": []
  }
 ],
 "metadata": {
  "kernelspec": {
   "display_name": "Python 3",
   "language": "python",
   "name": "python3"
  },
  "language_info": {
   "codemirror_mode": {
    "name": "ipython",
    "version": 3
   },
   "file_extension": ".py",
   "mimetype": "text/x-python",
   "name": "python",
   "nbconvert_exporter": "python",
   "pygments_lexer": "ipython3",
   "version": "3.8.3"
  }
 },
 "nbformat": 4,
 "nbformat_minor": 4
}
